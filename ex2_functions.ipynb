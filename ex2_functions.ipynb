{
 "cells": [
  {
   "cell_type": "markdown",
   "metadata": {},
   "source": [
    "## **2. 함수**"
   ]
  },
  {
   "cell_type": "code",
   "execution_count": 2,
   "metadata": {},
   "outputs": [
    {
     "name": "stdout",
     "output_type": "stream",
     "text": [
      "6\n"
     ]
    }
   ],
   "source": [
    "# [+] 함수 정의 및 테스트\n",
    "def add_one(x):\n",
    "    return x + 1\n",
    "\n",
    "print(add_one(5))"
   ]
  },
  {
   "cell_type": "code",
   "execution_count": 3,
   "metadata": {},
   "outputs": [
    {
     "data": {
      "text/plain": [
       "11"
      ]
     },
     "execution_count": 3,
     "metadata": {},
     "output_type": "execute_result"
    }
   ],
   "source": [
    "# [+] 변수값을 이용한 함수 호출\n",
    "x = 10\n",
    "add_one(x)"
   ]
  },
  {
   "cell_type": "code",
   "execution_count": 4,
   "metadata": {},
   "outputs": [],
   "source": [
    "# [+] 클래스 및 메서드 정의\n",
    "class Person(): # 클래스 정의\n",
    "    def __init__(self, name, age): # 생성자(constructor) 메서드 \n",
    "        self.name = name\n",
    "        self.age = age\n",
    "\n",
    "    def introduce_myself(self): # 일반 메서드\n",
    "        print(f\"My name is {self.name} and I'm {self.age} years old\")"
   ]
  },
  {
   "cell_type": "code",
   "execution_count": 5,
   "metadata": {},
   "outputs": [
    {
     "name": "stdout",
     "output_type": "stream",
     "text": [
      "My name is Baek Juyong and I'm 24 years old\n"
     ]
    }
   ],
   "source": [
    "me = Person(\"Baek Juyong\", 24)\n",
    "me.introduce_myself()"
   ]
  },
  {
   "cell_type": "code",
   "execution_count": 7,
   "metadata": {},
   "outputs": [
    {
     "name": "stdout",
     "output_type": "stream",
     "text": [
      "My name is Baek Juyong and I'm 24 years old\n"
     ]
    }
   ],
   "source": [
    "# [+] 인스턴스 생성 및 메서드 호출\n",
    "me = Person(\"Baek Juyong\", 24) # 인스턴스 생성\n",
    "me.introduce_myself()# 메서드 호출"
   ]
  },
  {
   "cell_type": "code",
   "execution_count": 8,
   "metadata": {},
   "outputs": [
    {
     "name": "stdout",
     "output_type": "stream",
     "text": [
      "Hello everyone, my name is Hyun Ahn, I was born in 1985, and I live in Anyang.\n"
     ]
    }
   ],
   "source": [
    "# 매개변수(parameters)와 인자(arguments)\n",
    "\n",
    "def introduce_myself(name, birthyear, city): # 매개변수 정의\n",
    "    print(f\"Hello everyone, my name is {name}, I was born in {birthyear}, and I live in {city}.\")\n",
    "\n",
    "introduce_myself(\"Hyun Ahn\", 1985, \"Anyang\") # 인자"
   ]
  },
  {
   "cell_type": "code",
   "execution_count": 9,
   "metadata": {},
   "outputs": [
    {
     "data": {
      "text/plain": [
       "'2025 is not a leap year'"
      ]
     },
     "execution_count": 9,
     "metadata": {},
     "output_type": "execute_result"
    }
   ],
   "source": [
    "# [+] return 키워드\n",
    "\n",
    "# 예제: leap year(윤년)\n",
    "def check_leap_year(year):\n",
    "    if year % 4 == 0:\n",
    "        return f\"{year} is a leap year\"\n",
    "    else:\n",
    "        return f\"{year} is not a leap year\"\n",
    "result = check_leap_year(2025)\n",
    "result"
   ]
  },
  {
   "cell_type": "code",
   "execution_count": 10,
   "metadata": {},
   "outputs": [
    {
     "name": "stdout",
     "output_type": "stream",
     "text": [
      "9 16 25\n"
     ]
    }
   ],
   "source": [
    "# [+] 여러 개의 값들을 반환\n",
    "\n",
    "def square_point(x, y, z):\n",
    "    x_squared = x ** 2\n",
    "    y_squared = y ** 2\n",
    "    z_squared = z ** 2\n",
    "    return x_squared, y_squared, z_squared\n",
    "\n",
    "squared_x, squared_y, squared_z = square_point(3, 4, 5)\n",
    "print(squared_x, squared_y, squared_z)\n",
    "squared_one, _, _ = square_point(3, 4, 5)"
   ]
  },
  {
   "cell_type": "code",
   "execution_count": 11,
   "metadata": {},
   "outputs": [
    {
     "name": "stdout",
     "output_type": "stream",
     "text": [
      "9\n"
     ]
    }
   ],
   "source": [
    "print(squared_one)"
   ]
  },
  {
   "cell_type": "code",
   "execution_count": 12,
   "metadata": {},
   "outputs": [
    {
     "name": "stdout",
     "output_type": "stream",
     "text": [
      "Hello\n",
      "Hello\n"
     ]
    }
   ],
   "source": [
    "# 전역변수\n",
    "\n",
    "a = \"Hello\"\n",
    "\n",
    "def prints_a():\n",
    "    print(a)\n",
    "\n",
    "print(a)   # 함수 밖에서 호출\n",
    "prints_a() # 함수 호출"
   ]
  },
  {
   "cell_type": "code",
   "execution_count": 13,
   "metadata": {},
   "outputs": [
    {
     "name": "stdout",
     "output_type": "stream",
     "text": [
      "Hello\n",
      "Bye\n"
     ]
    }
   ],
   "source": [
    "# 지역변수\n",
    "\n",
    "a = \"Hello\"\n",
    "\n",
    "def prints_a():\n",
    "    a = \"Bye\"\n",
    "    print(a)\n",
    "\n",
    "print(a)   # 함수 밖에서 호출: 전역 변수 출력 \n",
    "prints_a() # 함수 호출: 지역 변수 출력"
   ]
  },
  {
   "cell_type": "code",
   "execution_count": 14,
   "metadata": {},
   "outputs": [
    {
     "name": "stdout",
     "output_type": "stream",
     "text": [
      "7\n",
      "None\n"
     ]
    },
    {
     "ename": "NameError",
     "evalue": "name 'value' is not defined",
     "output_type": "error",
     "traceback": [
      "\u001b[1;31m---------------------------------------------------------------------------\u001b[0m",
      "\u001b[1;31mNameError\u001b[0m                                 Traceback (most recent call last)",
      "Cell \u001b[1;32mIn[14], line 6\u001b[0m\n\u001b[0;32m      3\u001b[0m     \u001b[38;5;28mprint\u001b[39m(value)\n\u001b[0;32m      5\u001b[0m \u001b[38;5;28mprint\u001b[39m(my_function(\u001b[38;5;241m7\u001b[39m))\n\u001b[1;32m----> 6\u001b[0m \u001b[38;5;28mprint\u001b[39m(value)\n",
      "\u001b[1;31mNameError\u001b[0m: name 'value' is not defined"
     ]
    }
   ],
   "source": [
    "# 함수 매개변수 = 지역변수\n",
    "def my_function(value):\n",
    "    print(value)\n",
    "\n",
    "print(my_function(7))\n",
    "print(value)"
   ]
  },
  {
   "cell_type": "code",
   "execution_count": 17,
   "metadata": {},
   "outputs": [
    {
     "name": "stdout",
     "output_type": "stream",
     "text": [
      "Height = 1\n",
      "Width = 1\n",
      "Depth = 1\n"
     ]
    },
    {
     "data": {
      "text/plain": [
       "1"
      ]
     },
     "execution_count": 17,
     "metadata": {},
     "output_type": "execute_result"
    }
   ],
   "source": [
    "# [+] 키워드 인자(keyword arguments)와 디폴트 값\n",
    "\n",
    "def findvolume(height=1, width=1, depth=1):\n",
    "    print(\"Height = %s\" % (height))\n",
    "    print(\"Width = %s\" % (width))\n",
    "    print(\"Depth = %s\" % (depth))\n",
    "    return height * width * depth\n",
    "\n",
    "findvolume()"
   ]
  },
  {
   "cell_type": "code",
   "execution_count": 1,
   "metadata": {},
   "outputs": [
    {
     "name": "stdout",
     "output_type": "stream",
     "text": [
      "Height = 1\n",
      "Width = 1\n",
      "Depth = 1\n",
      "1\n"
     ]
    }
   ],
   "source": [
    "def findvolume(height=1, width=1, depth=1):\n",
    "    print(\"Height = \" + str(height))\n",
    "    print(\"Width = \" + str(width))\n",
    "    print(\"Depth = \" + str(depth))\n",
    "    return height * width * depth\n",
    "\n",
    "print(findvolume())"
   ]
  }
 ],
 "metadata": {
  "kernelspec": {
   "display_name": "Python 3 (ipykernel)",
   "language": "python",
   "name": "python3"
  },
  "language_info": {
   "codemirror_mode": {
    "name": "ipython",
    "version": 3
   },
   "file_extension": ".py",
   "mimetype": "text/x-python",
   "name": "python",
   "nbconvert_exporter": "python",
   "pygments_lexer": "ipython3",
   "version": "3.12.7"
  }
 },
 "nbformat": 4,
 "nbformat_minor": 4
}
